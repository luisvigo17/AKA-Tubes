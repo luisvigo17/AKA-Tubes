{
 "cells": [
  {
   "cell_type": "code",
   "execution_count": 1,
   "metadata": {},
   "outputs": [
    {
     "name": "stdout",
     "output_type": "stream",
     "text": [
      "DFS Rekursif:\n",
      "A B D E F C "
     ]
    }
   ],
   "source": [
    "# DFS menggunakan pendekatan rekursif\n",
    "def dfs_recursive(graph, start, visited=None):\n",
    "    if visited is None:\n",
    "        visited = set()  # Set untuk menyimpan simpul yang sudah dikunjungi\n",
    "    visited.add(start)\n",
    "    print(start, end=' ')\n",
    "\n",
    "    # Rekursif pada setiap node yang belum dikunjungi\n",
    "    for neighbor in graph[start]:\n",
    "        if neighbor not in visited:\n",
    "            dfs_recursive(graph, neighbor, visited)\n",
    "\n",
    "# Contoh penggunaan\n",
    "graph = {\n",
    "    'A': ['B', 'C'],\n",
    "    'B': ['D', 'E'],\n",
    "    'C': ['F'],\n",
    "    'D': [],\n",
    "    'E': ['F'],\n",
    "    'F': []\n",
    "}\n",
    "\n",
    "print(\"DFS Rekursif:\")\n",
    "dfs_recursive(graph, 'A')"
   ]
  },
  {
   "cell_type": "code",
   "execution_count": 2,
   "metadata": {},
   "outputs": [
    {
     "name": "stdout",
     "output_type": "stream",
     "text": [
      "\n",
      "DFS Iteratif:\n",
      "A B D E F C "
     ]
    }
   ],
   "source": [
    "# DFS menggunakan pendekatan iteratif\n",
    "def dfs_iterative(graph, start):\n",
    "    visited = set()\n",
    "    stack = [start]\n",
    "\n",
    "    while stack:\n",
    "        vertex = stack.pop()  # Mengambil elemen teratas stack\n",
    "        if vertex not in visited:\n",
    "            print(vertex, end=' ')\n",
    "            visited.add(vertex)\n",
    "            # Menambahkan tetangga ke stack, namun urutan dibalik agar sesuai urutan DFS\n",
    "            stack.extend(reversed(graph[vertex]))\n",
    "\n",
    "# Contoh penggunaan\n",
    "print(\"\\nDFS Iteratif:\")\n",
    "dfs_iterative(graph, 'A')"
   ]
  },
  {
   "cell_type": "code",
   "execution_count": null,
   "metadata": {},
   "outputs": [],
   "source": []
  }
 ],
 "metadata": {
  "kernelspec": {
   "display_name": "base",
   "language": "python",
   "name": "python3"
  },
  "language_info": {
   "codemirror_mode": {
    "name": "ipython",
    "version": 3
   },
   "file_extension": ".py",
   "mimetype": "text/x-python",
   "name": "python",
   "nbconvert_exporter": "python",
   "pygments_lexer": "ipython3",
   "version": "3.11.4"
  }
 },
 "nbformat": 4,
 "nbformat_minor": 2
}
